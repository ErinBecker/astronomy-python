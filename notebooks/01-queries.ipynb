{
 "cells": [
  {
   "cell_type": "markdown",
   "metadata": {},
   "source": [
    "## Using ADQL to download Gaia data\n",
    "\n",
    "This is the first in a series of lessons related to astronomy data.  As a running example, we will replicate part of the analysis in a recent paper, \"[Off the beaten path: Gaia reveals GD-1 stars outside of the main stream](https://arxiv.org/abs/1805.00425)\" by Adrian M. Price-Whelan and Ana Bonaca.\n",
    "\n",
    "As the abstract explains, \"Using data from the Gaia second data release combined with Pan-STARRS photometry, we present a sample of highly-probable members of the longest cold stream in the Milky Way, GD-1.\"\n",
    "\n",
    "GD-1 is a [stellar stream](https://en.wikipedia.org/wiki/List_of_stellar_streams) which is \"an association of stars orbiting a galaxy that was once a globular cluster or dwarf galaxy that has now been torn apart and stretched out along its orbit by tidal forces.\"\n",
    "\n",
    "The two datasets used in this study are\n",
    " \n",
    "* [Gaia](https://en.wikipedia.org/wiki/Gaia_(spacecraft)), which is \"a space observatory of the European Space Agency (ESA), launched in 2013 ... designed for astrometry: measuring the positions, distances and motions of stars with unprecedented precision\", and\n",
    "\n",
    "* [PanSTARRS](https://en.wikipedia.org/wiki/Pan-STARRS): \"The Panoramic Survey Telescope and Rapid Response System, located at Haleakala Observatory, Hawaii, US, consists of astronomical cameras, telescopes and a computing facility that is surveying the sky for moving or variable objects on a continual basis, and also producing accurate astrometry and photometry of already-detected objects.\"\n",
    "\n",
    "Both of these datasets are very large, which can make them challenging to work with.  One of the goals of this workshop is to provide tools for working with large datasets.\n",
    "\n",
    "One of the most important of those tools is a \"query language\", which is a way to query a large database and efficiently select the information you need.  So that's where we'll start.\n",
    "\n",
    "The query language we'll use is ADQL, which stands for \"Astronomical Data Query Language\".\n",
    "\n",
    "ADQL is a dialect of [SQL](https://en.wikipedia.org/wiki/SQL) (Structured Query Language), which is by far the most commonly used query language.  Almost everything you learn about ADQL also works in SQL.\n",
    "\n",
    "[The reference manual for ADQL is here](https://docs.appdynamics.com/display/PRO45/ADQL+Reference).\n",
    "\n",
    "But you might find it easier to learn from [this ADQL Cookbook](https://www.gaia.ac.uk/data/gaia-data-release-1/adql-cookbook)."
   ]
  },
  {
   "cell_type": "markdown",
   "metadata": {},
   "source": [
    "## Getting Gaia data\n",
    "\n",
    "The library we'll use to get Gaia data is [Astroquery](https://astroquery.readthedocs.io/en/latest/).  If you are running this notebook on your own computer, you might have to install Astroquery.  You should have received instructions for this before the workshop.\n",
    "\n",
    "If you are running this notebook on Colab, you can run the following cell to install Astroquery and a couple of other libraries we'll use."
   ]
  },
  {
   "cell_type": "code",
   "execution_count": 1,
   "metadata": {},
   "outputs": [],
   "source": [
    "# If we're running on Colab, install libraries\n",
    "\n",
    "import sys\n",
    "IN_COLAB = 'google.colab' in sys.modules\n",
    "\n",
    "if IN_COLAB:\n",
    "    !pip install astroquery astro-gala pyia\n",
    "    !mkdir data"
   ]
  },
  {
   "cell_type": "markdown",
   "metadata": {},
   "source": [
    "From Astroquery we can import `Gaia`, which is an [object that represents a connection to the Gaia database](https://astroquery.readthedocs.io/en/latest/gaia/gaia.html).\n",
    "\n",
    "Running this import statement has the effect of creating a [TAP+](http://www.ivoa.net/documents/TAP/) connection; TAP stands for \"Table Access Protocol\".  It is a network protocol for sending queries to the database and getting back the results."
   ]
  },
  {
   "cell_type": "code",
   "execution_count": 2,
   "metadata": {},
   "outputs": [
    {
     "name": "stdout",
     "output_type": "stream",
     "text": [
      "Created TAP+ (v1.2.1) - Connection:\n",
      "\tHost: gea.esac.esa.int\n",
      "\tUse HTTPS: True\n",
      "\tPort: 443\n",
      "\tSSL Port: 443\n",
      "Created TAP+ (v1.2.1) - Connection:\n",
      "\tHost: geadata.esac.esa.int\n",
      "\tUse HTTPS: True\n",
      "\tPort: 443\n",
      "\tSSL Port: 443\n"
     ]
    }
   ],
   "source": [
    "from astroquery.gaia import Gaia"
   ]
  },
  {
   "cell_type": "markdown",
   "metadata": {},
   "source": [
    "I'm not sure why it seems to create two connections.\n",
    "\n",
    "What is a database, anyway?  Most generally, it can be any collection of data, but when we are talking about ADQL or SQL:\n",
    "\n",
    "* A database is a collection of one or more named tables.\n",
    "\n",
    "* Each table is a 2-D array with one or more named columns of data.\n",
    "\n",
    "We can use `load_tables` to get the names of the tables in the Gaia database.  With the option `only_names=True`, it loads information about the tables, the \"metadata\", not the data itself."
   ]
  },
  {
   "cell_type": "code",
   "execution_count": 3,
   "metadata": {},
   "outputs": [
    {
     "name": "stdout",
     "output_type": "stream",
     "text": [
      "INFO: Retrieving tables... [astroquery.utils.tap.core]\n",
      "INFO: Parsing tables... [astroquery.utils.tap.core]\n",
      "INFO: Done. [astroquery.utils.tap.core]\n",
      "external.external.apassdr9\n",
      "external.external.gaiadr2_geometric_distance\n",
      "external.external.galex_ais\n",
      "external.external.ravedr5_com\n",
      "external.external.ravedr5_dr5\n",
      "external.external.ravedr5_gra\n",
      "external.external.ravedr5_on\n",
      "external.external.sdssdr13_photoprimary\n",
      "external.external.skymapperdr1_master\n",
      "external.external.tmass_xsc\n",
      "public.public.hipparcos\n",
      "public.public.hipparcos_newreduction\n",
      "public.public.hubble_sc\n",
      "public.public.igsl_source\n",
      "public.public.igsl_source_catalog_ids\n",
      "public.public.tycho2\n",
      "public.public.dual\n",
      "tap_config.tap_config.coord_sys\n",
      "tap_config.tap_config.properties\n",
      "tap_schema.tap_schema.columns\n",
      "tap_schema.tap_schema.key_columns\n",
      "tap_schema.tap_schema.keys\n",
      "tap_schema.tap_schema.schemas\n",
      "tap_schema.tap_schema.tables\n",
      "gaiadr1.gaiadr1.aux_qso_icrf2_match\n",
      "gaiadr1.gaiadr1.ext_phot_zero_point\n",
      "gaiadr1.gaiadr1.allwise_best_neighbour\n",
      "gaiadr1.gaiadr1.allwise_neighbourhood\n",
      "gaiadr1.gaiadr1.gsc23_best_neighbour\n",
      "gaiadr1.gaiadr1.gsc23_neighbourhood\n",
      "gaiadr1.gaiadr1.ppmxl_best_neighbour\n",
      "gaiadr1.gaiadr1.ppmxl_neighbourhood\n",
      "gaiadr1.gaiadr1.sdss_dr9_best_neighbour\n",
      "gaiadr1.gaiadr1.sdss_dr9_neighbourhood\n",
      "gaiadr1.gaiadr1.tmass_best_neighbour\n",
      "gaiadr1.gaiadr1.tmass_neighbourhood\n",
      "gaiadr1.gaiadr1.ucac4_best_neighbour\n",
      "gaiadr1.gaiadr1.ucac4_neighbourhood\n",
      "gaiadr1.gaiadr1.urat1_best_neighbour\n",
      "gaiadr1.gaiadr1.urat1_neighbourhood\n",
      "gaiadr1.gaiadr1.cepheid\n",
      "gaiadr1.gaiadr1.phot_variable_time_series_gfov\n",
      "gaiadr1.gaiadr1.phot_variable_time_series_gfov_statistical_parameters\n",
      "gaiadr1.gaiadr1.rrlyrae\n",
      "gaiadr1.gaiadr1.variable_summary\n",
      "gaiadr1.gaiadr1.allwise_original_valid\n",
      "gaiadr1.gaiadr1.gsc23_original_valid\n",
      "gaiadr1.gaiadr1.ppmxl_original_valid\n",
      "gaiadr1.gaiadr1.sdssdr9_original_valid\n",
      "gaiadr1.gaiadr1.tmass_original_valid\n",
      "gaiadr1.gaiadr1.ucac4_original_valid\n",
      "gaiadr1.gaiadr1.urat1_original_valid\n",
      "gaiadr1.gaiadr1.gaia_source\n",
      "gaiadr1.gaiadr1.tgas_source\n",
      "gaiadr2.gaiadr2.aux_allwise_agn_gdr2_cross_id\n",
      "gaiadr2.gaiadr2.aux_iers_gdr2_cross_id\n",
      "gaiadr2.gaiadr2.aux_sso_orbit_residuals\n",
      "gaiadr2.gaiadr2.aux_sso_orbits\n",
      "gaiadr2.gaiadr2.dr1_neighbourhood\n",
      "gaiadr2.gaiadr2.allwise_best_neighbour\n",
      "gaiadr2.gaiadr2.allwise_neighbourhood\n",
      "gaiadr2.gaiadr2.apassdr9_best_neighbour\n",
      "gaiadr2.gaiadr2.apassdr9_neighbourhood\n",
      "gaiadr2.gaiadr2.gsc23_best_neighbour\n",
      "gaiadr2.gaiadr2.gsc23_neighbourhood\n",
      "gaiadr2.gaiadr2.hipparcos2_best_neighbour\n",
      "gaiadr2.gaiadr2.hipparcos2_neighbourhood\n",
      "gaiadr2.gaiadr2.panstarrs1_best_neighbour\n",
      "gaiadr2.gaiadr2.panstarrs1_neighbourhood\n",
      "gaiadr2.gaiadr2.ppmxl_best_neighbour\n",
      "gaiadr2.gaiadr2.ppmxl_neighbourhood\n",
      "gaiadr2.gaiadr2.ravedr5_best_neighbour\n",
      "gaiadr2.gaiadr2.ravedr5_neighbourhood\n",
      "gaiadr2.gaiadr2.sdssdr9_best_neighbour\n",
      "gaiadr2.gaiadr2.sdssdr9_neighbourhood\n",
      "gaiadr2.gaiadr2.tmass_best_neighbour\n",
      "gaiadr2.gaiadr2.tmass_neighbourhood\n",
      "gaiadr2.gaiadr2.tycho2_best_neighbour\n",
      "gaiadr2.gaiadr2.tycho2_neighbourhood\n",
      "gaiadr2.gaiadr2.urat1_best_neighbour\n",
      "gaiadr2.gaiadr2.urat1_neighbourhood\n",
      "gaiadr2.gaiadr2.sso_observation\n",
      "gaiadr2.gaiadr2.sso_source\n",
      "gaiadr2.gaiadr2.vari_cepheid\n",
      "gaiadr2.gaiadr2.vari_classifier_class_definition\n",
      "gaiadr2.gaiadr2.vari_classifier_definition\n",
      "gaiadr2.gaiadr2.vari_classifier_result\n",
      "gaiadr2.gaiadr2.vari_long_period_variable\n",
      "gaiadr2.gaiadr2.vari_rotation_modulation\n",
      "gaiadr2.gaiadr2.vari_rrlyrae\n",
      "gaiadr2.gaiadr2.vari_short_timescale\n",
      "gaiadr2.gaiadr2.vari_time_series_statistics\n",
      "gaiadr2.gaiadr2.panstarrs1_original_valid\n",
      "gaiadr2.gaiadr2.gaia_source\n",
      "gaiadr2.gaiadr2.ruwe\n"
     ]
    }
   ],
   "source": [
    "tables = Gaia.load_tables(only_names=True)\n",
    "for table in (tables):\n",
    "    print(table.get_qualified_name())"
   ]
  },
  {
   "cell_type": "markdown",
   "metadata": {},
   "source": [
    "So that's a lot of tables.  The ones we'll use are:\n",
    "\n",
    "* gaiadr2.gaia_source, which contains Gaia data from [data release 2](https://www.cosmos.esa.int/web/gaia/data-release-2),\n",
    "\n",
    "* gaiadr2.panstarrs1_original_valid, which contains the photometry data we'll use from PanSTARRS, and\n",
    "\n",
    "* gaiadr2.panstarrs1_best_neighbour, which we'll use to cross-match each star observed by Gaia with the same star observed by PanSTARRS.\n",
    "\n",
    "We can use `load_table` (not `load_tables`) to get the metadata for a single table.  The name of this function is misleading, because it only downloads metadata. "
   ]
  },
  {
   "cell_type": "code",
   "execution_count": 5,
   "metadata": {},
   "outputs": [
    {
     "name": "stdout",
     "output_type": "stream",
     "text": [
      "Retrieving table 'gaiadr2.gaia_source'\n",
      "Parsing table 'gaiadr2.gaia_source'...\n",
      "Done.\n"
     ]
    },
    {
     "data": {
      "text/plain": [
       "<astroquery.utils.tap.model.taptable.TapTableMeta at 0x7f5dca48fa30>"
      ]
     },
     "execution_count": 5,
     "metadata": {},
     "output_type": "execute_result"
    }
   ],
   "source": [
    "table = Gaia.load_table('gaiadr2.gaia_source')\n",
    "table"
   ]
  },
  {
   "cell_type": "markdown",
   "metadata": {},
   "source": [
    "Notice one gotcha: in the list of table names, this table appears as `gaiadr2.gaiadr2.gaia_source`, but when we load the metadata, we refer to it as `gaiadr2.gaia_source`.\n",
    "\n",
    "Jupyter shows that the result is an object of type `TapTableMeta`, but it does not display the contents.\n",
    "\n",
    "To see the metadata, we have to print the object."
   ]
  },
  {
   "cell_type": "code",
   "execution_count": 6,
   "metadata": {},
   "outputs": [
    {
     "name": "stdout",
     "output_type": "stream",
     "text": [
      "TAP Table name: gaiadr2.gaiadr2.gaia_source\n",
      "Description: This table has an entry for every Gaia observed source as listed in the\n",
      "Main Database accumulating catalogue version from which the catalogue\n",
      "release has been generated. It contains the basic source parameters,\n",
      "that is only final data (no epoch data) and no spectra (neither final\n",
      "nor epoch).\n",
      "Num. columns: 96\n"
     ]
    }
   ],
   "source": [
    "print(table)"
   ]
  },
  {
   "cell_type": "markdown",
   "metadata": {},
   "source": [
    "The following loop prints the names of the columns in the table."
   ]
  },
  {
   "cell_type": "code",
   "execution_count": 9,
   "metadata": {},
   "outputs": [
    {
     "name": "stdout",
     "output_type": "stream",
     "text": [
      "solution_id\n",
      "designation\n",
      "source_id\n",
      "random_index\n",
      "ref_epoch\n",
      "ra\n",
      "ra_error\n",
      "dec\n",
      "dec_error\n",
      "parallax\n",
      "parallax_error\n",
      "parallax_over_error\n",
      "pmra\n",
      "pmra_error\n",
      "pmdec\n",
      "pmdec_error\n",
      "ra_dec_corr\n",
      "ra_parallax_corr\n",
      "ra_pmra_corr\n",
      "ra_pmdec_corr\n",
      "dec_parallax_corr\n",
      "dec_pmra_corr\n",
      "dec_pmdec_corr\n",
      "parallax_pmra_corr\n",
      "parallax_pmdec_corr\n",
      "pmra_pmdec_corr\n",
      "astrometric_n_obs_al\n",
      "astrometric_n_obs_ac\n",
      "astrometric_n_good_obs_al\n",
      "astrometric_n_bad_obs_al\n",
      "astrometric_gof_al\n",
      "astrometric_chi2_al\n",
      "astrometric_excess_noise\n",
      "astrometric_excess_noise_sig\n",
      "astrometric_params_solved\n",
      "astrometric_primary_flag\n",
      "astrometric_weight_al\n",
      "astrometric_pseudo_colour\n",
      "astrometric_pseudo_colour_error\n",
      "mean_varpi_factor_al\n",
      "astrometric_matched_observations\n",
      "visibility_periods_used\n",
      "astrometric_sigma5d_max\n",
      "frame_rotator_object_type\n",
      "matched_observations\n",
      "duplicated_source\n",
      "phot_g_n_obs\n",
      "phot_g_mean_flux\n",
      "phot_g_mean_flux_error\n",
      "phot_g_mean_flux_over_error\n",
      "phot_g_mean_mag\n",
      "phot_bp_n_obs\n",
      "phot_bp_mean_flux\n",
      "phot_bp_mean_flux_error\n",
      "phot_bp_mean_flux_over_error\n",
      "phot_bp_mean_mag\n",
      "phot_rp_n_obs\n",
      "phot_rp_mean_flux\n",
      "phot_rp_mean_flux_error\n",
      "phot_rp_mean_flux_over_error\n",
      "phot_rp_mean_mag\n",
      "phot_bp_rp_excess_factor\n",
      "phot_proc_mode\n",
      "bp_rp\n",
      "bp_g\n",
      "g_rp\n",
      "radial_velocity\n",
      "radial_velocity_error\n",
      "rv_nb_transits\n",
      "rv_template_teff\n",
      "rv_template_logg\n",
      "rv_template_fe_h\n",
      "phot_variable_flag\n",
      "l\n",
      "b\n",
      "ecl_lon\n",
      "ecl_lat\n",
      "priam_flags\n",
      "teff_val\n",
      "teff_percentile_lower\n",
      "teff_percentile_upper\n",
      "a_g_val\n",
      "a_g_percentile_lower\n",
      "a_g_percentile_upper\n",
      "e_bp_min_rp_val\n",
      "e_bp_min_rp_percentile_lower\n",
      "e_bp_min_rp_percentile_upper\n",
      "flame_flags\n",
      "radius_val\n",
      "radius_percentile_lower\n",
      "radius_percentile_upper\n",
      "lum_val\n",
      "lum_percentile_lower\n",
      "lum_percentile_upper\n",
      "datalink_url\n",
      "epoch_photometry_url\n"
     ]
    }
   ],
   "source": [
    "for column in (table.columns):\n",
    "    print(column.name)"
   ]
  },
  {
   "cell_type": "markdown",
   "metadata": {},
   "source": [
    "To find out what the columns mean, you can read [the documentation of this table here](https://gea.esac.esa.int/archive/documentation/GDR2/Gaia_archive/chap_datamodel/sec_dm_main_tables/ssec_dm_gaia_source.html)."
   ]
  },
  {
   "cell_type": "code",
   "execution_count": null,
   "metadata": {},
   "outputs": [],
   "source": []
  },
  {
   "cell_type": "markdown",
   "metadata": {},
   "source": [
    "## Writing queries\n",
    "\n",
    "Now you might be wondering how we actually download the data.  With tables this big, you generally don't.  Instead, you use queries to select only the data you want.\n",
    "\n",
    "To do that, we're going to write an ADQL query.  Here's an example:"
   ]
  },
  {
   "cell_type": "code",
   "execution_count": 11,
   "metadata": {},
   "outputs": [],
   "source": [
    "query1 = \"\"\"SELECT \n",
    "TOP 10\n",
    "source_id, ref_epoch, ra, dec, parallax \n",
    "FROM gaiadr2.gaia_source\"\"\""
   ]
  },
  {
   "cell_type": "markdown",
   "metadata": {},
   "source": [
    "The words in uppercase are ADQL keywords:\n",
    "\n",
    "* `SELECT` indicates that we are selecting data (as opposed to adding or modifying data).\n",
    "\n",
    "* `TOP` indicates that we only want the first 10 rows of the table, which is useful for testing a query before asking for all of the data.\n",
    "\n",
    "* `FROM` specifies which table we want data from.\n",
    "\n",
    "The third line is a list of column names, indicating which columns we want.  \n",
    "\n",
    "I wrote the column names in lowercase to make it clear that they are not keywords.  This is a common style, but it is not required."
   ]
  },
  {
   "cell_type": "markdown",
   "metadata": {},
   "source": [
    "To run this query, we use `Gaia.launch_job`:"
   ]
  },
  {
   "cell_type": "code",
   "execution_count": 12,
   "metadata": {},
   "outputs": [
    {
     "data": {
      "text/plain": [
       "<astroquery.utils.tap.model.job.Job at 0x7f5dc9ade4c0>"
      ]
     },
     "execution_count": 12,
     "metadata": {},
     "output_type": "execute_result"
    }
   ],
   "source": [
    "job1 = Gaia.launch_job(query1)\n",
    "job1"
   ]
  },
  {
   "cell_type": "markdown",
   "metadata": {},
   "source": [
    "The result is an object that represents the job running on a Gaia server.\n",
    "\n",
    "If you print it, it displays metadata for the forthcoming table."
   ]
  },
  {
   "cell_type": "code",
   "execution_count": 13,
   "metadata": {},
   "outputs": [
    {
     "name": "stdout",
     "output_type": "stream",
     "text": [
      "<Table length=10>\n",
      "           name            dtype  unit                            description                            \n",
      "------------------------- ------- ---- ------------------------------------------------------------------\n",
      "                source_id   int64      Unique source identifier (unique within a particular Data Release)\n",
      "                ref_epoch float64   yr                                                    Reference epoch\n",
      "                       ra float64  deg                                                    Right ascension\n",
      "                      dec float64  deg                                                        Declination\n",
      "                 parallax float64  mas                                                           Parallax\n",
      "astrometric_n_good_obs_al   int32                                          Number of good observations AL\n",
      "Jobid: None\n",
      "Phase: COMPLETED\n",
      "Owner: None\n",
      "Output file: sync_20200727133344.xml.gz\n",
      "Results: None\n"
     ]
    }
   ],
   "source": [
    "print(job1)"
   ]
  },
  {
   "cell_type": "markdown",
   "metadata": {},
   "source": [
    "Now we can get the results:\n"
   ]
  },
  {
   "cell_type": "code",
   "execution_count": 15,
   "metadata": {},
   "outputs": [
    {
     "data": {
      "text/plain": [
       "astropy.table.table.Table"
      ]
     },
     "execution_count": 15,
     "metadata": {},
     "output_type": "execute_result"
    }
   ],
   "source": [
    "results1 = job1.get_results()\n",
    "type(results1)"
   ]
  },
  {
   "cell_type": "markdown",
   "metadata": {},
   "source": [
    "The results is an [Astropy Table](https://docs.astropy.org/en/stable/table/) is similar to a table in an SQL database except:\n",
    "\n",
    "* SQL databases are stored on disk drives, so they are persistent; that is, they \"survive\" even if you turn off the computer.  An Astropy `Table` is stored in memory; it disappears when you turn off the computer (or shut down this Jupyter notebook).\n",
    "\n",
    "* SQL databases are designed to process queries.  And Astropy `Table` can perform some query-like operations, like selecting columns and rows.  But these operations use Python syntax, not SQL.\n",
    "\n",
    "Jupyter knows how to display the contents of a `Table`."
   ]
  },
  {
   "cell_type": "code",
   "execution_count": 16,
   "metadata": {},
   "outputs": [
    {
     "data": {
      "text/html": [
       "<i>Table length=10</i>\n",
       "<table id=\"table140040792305088\" class=\"table-striped table-bordered table-condensed\">\n",
       "<thead><tr><th>source_id</th><th>ref_epoch</th><th>ra</th><th>dec</th><th>parallax</th><th>astrometric_n_good_obs_al</th></tr></thead>\n",
       "<thead><tr><th></th><th>yr</th><th>deg</th><th>deg</th><th>mas</th><th></th></tr></thead>\n",
       "<thead><tr><th>int64</th><th>float64</th><th>float64</th><th>float64</th><th>float64</th><th>int32</th></tr></thead>\n",
       "<tr><td>5778048606007762688</td><td>2015.5</td><td>252.93420276237282</td><td>-76.36404355513356</td><td>0.0073540961896056255</td><td>233</td></tr>\n",
       "<tr><td>5778089219220100096</td><td>2015.5</td><td>252.72779858159538</td><td>-75.86754589201404</td><td>0.25581296749966514</td><td>253</td></tr>\n",
       "<tr><td>5778038302382901760</td><td>2015.5</td><td>253.73048442254156</td><td>-75.97044898678163</td><td>0.19971165734613006</td><td>179</td></tr>\n",
       "<tr><td>5778065137341689856</td><td>2015.5</td><td>252.6801881425296</td><td>-75.94965439295241</td><td>0.7703449958336754</td><td>241</td></tr>\n",
       "<tr><td>5778053725609483136</td><td>2015.5</td><td>252.12098597753152</td><td>-76.28043425673263</td><td>0.27852627584949724</td><td>248</td></tr>\n",
       "<tr><td>5778073521116914176</td><td>2015.5</td><td>251.2555423220548</td><td>-75.99925834891171</td><td>0.3851764561721036</td><td>283</td></tr>\n",
       "<tr><td>5778088291507103360</td><td>2015.5</td><td>252.9473667300663</td><td>-75.89270654732523</td><td>-0.04894008708550348</td><td>266</td></tr>\n",
       "<tr><td>5778084408856419584</td><td>2015.5</td><td>253.1933563035603</td><td>-75.99089099992894</td><td>0.4475173051231056</td><td>253</td></tr>\n",
       "<tr><td>5778106781342048512</td><td>2015.5</td><td>251.79775298608456</td><td>-75.69389584692645</td><td>2.714767898744601</td><td>141</td></tr>\n",
       "<tr><td>5778043383329098368</td><td>2015.5</td><td>254.3454010558042</td><td>-75.84368312688588</td><td>0.16427027205623934</td><td>252</td></tr>\n",
       "</table>"
      ],
      "text/plain": [
       "<Table length=10>\n",
       "     source_id      ref_epoch ... astrometric_n_good_obs_al\n",
       "                        yr    ...                          \n",
       "       int64         float64  ...           int32          \n",
       "------------------- --------- ... -------------------------\n",
       "5778048606007762688    2015.5 ...                       233\n",
       "5778089219220100096    2015.5 ...                       253\n",
       "5778038302382901760    2015.5 ...                       179\n",
       "5778065137341689856    2015.5 ...                       241\n",
       "5778053725609483136    2015.5 ...                       248\n",
       "5778073521116914176    2015.5 ...                       283\n",
       "5778088291507103360    2015.5 ...                       266\n",
       "5778084408856419584    2015.5 ...                       253\n",
       "5778106781342048512    2015.5 ...                       141\n",
       "5778043383329098368    2015.5 ...                       252"
      ]
     },
     "execution_count": 16,
     "metadata": {},
     "output_type": "execute_result"
    }
   ],
   "source": [
    "results1"
   ]
  },
  {
   "cell_type": "markdown",
   "metadata": {},
   "source": [
    "Each column has a name, units, and a data type.  \n",
    "\n",
    "For example, the units of `ra` and `dec` are degrees, and their data type is `float64`, which is a 64-bit floating-point number, used to store measurements with a fraction part."
   ]
  },
  {
   "cell_type": "markdown",
   "metadata": {},
   "source": [
    "**Exercise:** Read [the documentation of this table](https://gea.esac.esa.int/archive/documentation/GDR2/Gaia_archive/chap_datamodel/sec_dm_main_tables/ssec_dm_gaia_source.html) and select at least one column name that looks interesting to you.  Add the columns you selected to the query and run it again.  What are the units of the column you selected?  What is its data type?"
   ]
  },
  {
   "cell_type": "markdown",
   "metadata": {},
   "source": [
    "## Asynchronous queries\n",
    "\n",
    "`launch_job` asks the server to run the job \"synchronously\", which normally means it runs immediately.  But synchronous jobs are limited to 2000 rows.  For queries that return more rows, you have to run \"asynchronously\", which mean they might take longer to get started.\n",
    "\n",
    "The results of an asynchronous query are stored in a file on the server, so you can start a query and come back later to get the results.\n",
    "\n",
    "For anonymous users, files are kept for three days.\n",
    "\n",
    "We could run the same query asynchronously, but to live things up, let's add a new keyword, `WHERE`:"
   ]
  },
  {
   "cell_type": "code",
   "execution_count": 11,
   "metadata": {},
   "outputs": [],
   "source": [
    "query2 = \"\"\"SELECT \n",
    "TOP 100\n",
    "source_id, ref_epoch, ra, dec, parallax\n",
    "WHERE parallax < 1\n",
    "FROM gaiadr2.gaia_source\"\"\""
   ]
  },
  {
   "cell_type": "markdown",
   "metadata": {},
   "source": [
    "A `WHERE` clause indicates which rows we want; in this case, the query selects only rows \"where\" `parallax` is less than 1.\n",
    "\n",
    "We use `launch_job_async` to submit an asynchronous query."
   ]
  },
  {
   "cell_type": "code",
   "execution_count": 12,
   "metadata": {},
   "outputs": [
    {
     "name": "stdout",
     "output_type": "stream",
     "text": [
      "INFO: Query finished. [astroquery.utils.tap.core]\n",
      "<Table length=10>\n",
      "        name          dtype  unit                     description                    \n",
      "-------------------- ------- ---- ---------------------------------------------------\n",
      "         solution_id   int64                                      Solution Identifier\n",
      "           ref_epoch float64   yr                                     Reference epoch\n",
      "         ra_dec_corr float32      Correlation between right ascension and declination\n",
      "astrometric_n_obs_al   int32                          Total number of observations AL\n",
      "matched_observations   int16            Amount of observations matched to this source\n",
      "Jobid: 1595337348686O\n",
      "Phase: COMPLETED\n",
      "Owner: None\n",
      "Output file: async_20200721091548.vot\n",
      "Results: None\n"
     ]
    }
   ],
   "source": [
    "job2 = Gaia.launch_job_async(query2)\n",
    "print(job2)"
   ]
  },
  {
   "cell_type": "code",
   "execution_count": 13,
   "metadata": {},
   "outputs": [
    {
     "data": {
      "text/html": [
       "<i>Table length=10</i>\n",
       "<table id=\"table139777027622608\" class=\"table-striped table-bordered table-condensed\">\n",
       "<thead><tr><th>solution_id</th><th>ref_epoch</th><th>ra_dec_corr</th><th>astrometric_n_obs_al</th><th>matched_observations</th></tr></thead>\n",
       "<thead><tr><th></th><th>yr</th><th></th><th></th><th></th></tr></thead>\n",
       "<thead><tr><th>int64</th><th>float64</th><th>float32</th><th>int32</th><th>int16</th></tr></thead>\n",
       "<tr><td>1635721458409799680</td><td>2015.5</td><td>0.022670548</td><td>107</td><td>13</td></tr>\n",
       "<tr><td>1635721458409799680</td><td>2015.5</td><td>0.06490505</td><td>97</td><td>11</td></tr>\n",
       "<tr><td>1635721458409799680</td><td>2015.5</td><td>0.11690165</td><td>104</td><td>12</td></tr>\n",
       "<tr><td>1635721458409799680</td><td>2015.5</td><td>0.042778816</td><td>114</td><td>13</td></tr>\n",
       "<tr><td>1635721458409799680</td><td>2015.5</td><td>0.095711425</td><td>114</td><td>13</td></tr>\n",
       "<tr><td>1635721458409799680</td><td>2015.5</td><td>0.56088775</td><td>105</td><td>12</td></tr>\n",
       "<tr><td>1635721458409799680</td><td>2015.5</td><td>-0.0028029205</td><td>114</td><td>13</td></tr>\n",
       "<tr><td>1635721458409799680</td><td>2015.5</td><td>0.11152559</td><td>104</td><td>12</td></tr>\n",
       "<tr><td>1635721458409799680</td><td>2015.5</td><td>0.6039746</td><td>98</td><td>11</td></tr>\n",
       "<tr><td>1635721458409799680</td><td>2015.5</td><td>0.06599529</td><td>111</td><td>13</td></tr>\n",
       "</table>"
      ],
      "text/plain": [
       "<Table length=10>\n",
       "    solution_id     ref_epoch ... astrometric_n_obs_al matched_observations\n",
       "                        yr    ...                                          \n",
       "       int64         float64  ...        int32                int16        \n",
       "------------------- --------- ... -------------------- --------------------\n",
       "1635721458409799680    2015.5 ...                  107                   13\n",
       "1635721458409799680    2015.5 ...                   97                   11\n",
       "1635721458409799680    2015.5 ...                  104                   12\n",
       "1635721458409799680    2015.5 ...                  114                   13\n",
       "1635721458409799680    2015.5 ...                  114                   13\n",
       "1635721458409799680    2015.5 ...                  105                   12\n",
       "1635721458409799680    2015.5 ...                  114                   13\n",
       "1635721458409799680    2015.5 ...                  104                   12\n",
       "1635721458409799680    2015.5 ...                   98                   11\n",
       "1635721458409799680    2015.5 ...                  111                   13"
      ]
     },
     "execution_count": 13,
     "metadata": {},
     "output_type": "execute_result"
    }
   ],
   "source": [
    "results2 = job2.get_results()\n",
    "results2"
   ]
  },
  {
   "cell_type": "markdown",
   "metadata": {},
   "source": [
    "Asynchronous jobs have a `jobid`."
   ]
  },
  {
   "cell_type": "code",
   "execution_count": 14,
   "metadata": {},
   "outputs": [
    {
     "data": {
      "text/plain": [
       "(None, '1595337348686O')"
      ]
     },
     "execution_count": 14,
     "metadata": {},
     "output_type": "execute_result"
    }
   ],
   "source": [
    "job1.jobid, job2.jobid"
   ]
  },
  {
   "cell_type": "markdown",
   "metadata": {},
   "source": [
    "Which you can use to remove the job from the server.\n",
    "\n",
    "TODO: Confirm that this means the data file gets deleted."
   ]
  },
  {
   "cell_type": "code",
   "execution_count": 15,
   "metadata": {
    "scrolled": true
   },
   "outputs": [
    {
     "name": "stdout",
     "output_type": "stream",
     "text": [
      "Removed jobs: '['1595337348686O']'.\n"
     ]
    }
   ],
   "source": [
    "Gaia.remove_jobs([job2.jobid])"
   ]
  },
  {
   "cell_type": "markdown",
   "metadata": {},
   "source": [
    "## Formatting queries\n",
    "\n",
    "So far the queries have been string \"literals\", meaning that the entire string is part of the program.\n",
    "\n",
    "It is more common to assemble a string programmatically using the string `format` method.\n",
    "\n",
    "As an example, here's a list of columns we might want to select."
   ]
  },
  {
   "cell_type": "code",
   "execution_count": 16,
   "metadata": {},
   "outputs": [],
   "source": [
    "gaia_cols = ['source_id', \n",
    "             'ra',\n",
    "             'dec',\n",
    "             'pmra',\n",
    "             'pmdec',\n",
    "             'parallax', \n",
    "             'parallax_error', \n",
    "             ]"
   ]
  },
  {
   "cell_type": "markdown",
   "metadata": {},
   "source": [
    "Before we assemble the string, we'll join the column names into a single string with commas and spaces."
   ]
  },
  {
   "cell_type": "code",
   "execution_count": 17,
   "metadata": {},
   "outputs": [
    {
     "data": {
      "text/plain": [
       "'source_id, ra, dec, pmra, pmdec, parallax, parallax_error'"
      ]
     },
     "execution_count": 17,
     "metadata": {},
     "output_type": "execute_result"
    }
   ],
   "source": [
    "columns = ', '.join(gaia_cols)\n",
    "columns"
   ]
  },
  {
   "cell_type": "markdown",
   "metadata": {},
   "source": [
    "The following is a \"base\" for a query; it's a string that contains at least one format specification in curly brackets (braces)."
   ]
  },
  {
   "cell_type": "code",
   "execution_count": 18,
   "metadata": {},
   "outputs": [],
   "source": [
    "query_base = \"\"\"SELECT TOP 10\n",
    "{columns}\n",
    "FROM gaiadr2.gaia_source\n",
    "WHERE parallax < 1 AND bp_rp > -0.75 AND bp_rp < 2\n",
    "\"\"\""
   ]
  },
  {
   "cell_type": "markdown",
   "metadata": {},
   "source": [
    "To assemble the query, we invoke `format` on the base string and provide keyword arguments.\n",
    "\n",
    "https://www.w3schools.com/python/ref_string_format.asp\n",
    "\n",
    "Each keyword argument assigns a value to a variable.  Then we can access the variables in the format specification."
   ]
  },
  {
   "cell_type": "code",
   "execution_count": 19,
   "metadata": {},
   "outputs": [],
   "source": [
    "query3 = query_base.format(columns=columns)"
   ]
  },
  {
   "cell_type": "markdown",
   "metadata": {},
   "source": [
    "We'll use the following function to print multi-line queries readably."
   ]
  },
  {
   "cell_type": "code",
   "execution_count": 20,
   "metadata": {},
   "outputs": [],
   "source": [
    "def print_query(query):\n",
    "    for line in query.split('\\n'):\n",
    "        print(line)"
   ]
  },
  {
   "cell_type": "markdown",
   "metadata": {},
   "source": [
    "Here's the query we just assembled."
   ]
  },
  {
   "cell_type": "code",
   "execution_count": 21,
   "metadata": {},
   "outputs": [
    {
     "name": "stdout",
     "output_type": "stream",
     "text": [
      "SELECT TOP 10\n",
      "source_id, ra, dec, pmra, pmdec, parallax, parallax_error\n",
      "FROM gaiadr2.gaia_source\n",
      "WHERE parallax < 1 AND bp_rp > -0.75 AND bp_rp < 2\n",
      "\n"
     ]
    }
   ],
   "source": [
    "print_query(query3)"
   ]
  },
  {
   "cell_type": "markdown",
   "metadata": {},
   "source": [
    "The format specifier has been replaced with the value of `columns`."
   ]
  },
  {
   "cell_type": "markdown",
   "metadata": {},
   "source": [
    "We've already run this query, but we can run it again to confirm that our assembled query works."
   ]
  },
  {
   "cell_type": "code",
   "execution_count": 22,
   "metadata": {
    "scrolled": true
   },
   "outputs": [
    {
     "name": "stdout",
     "output_type": "stream",
     "text": [
      "<Table length=10>\n",
      "     name       dtype    unit                              description                            \n",
      "-------------- ------- -------- ------------------------------------------------------------------\n",
      "     source_id   int64          Unique source identifier (unique within a particular Data Release)\n",
      "            ra float64      deg                                                    Right ascension\n",
      "           dec float64      deg                                                        Declination\n",
      "          pmra float64 mas / yr                         Proper motion in right ascension direction\n",
      "         pmdec float64 mas / yr                             Proper motion in declination direction\n",
      "      parallax float64      mas                                                           Parallax\n",
      "parallax_error float64      mas                                         Standard error of parallax\n",
      "Jobid: None\n",
      "Phase: COMPLETED\n",
      "Owner: None\n",
      "Output file: sync_20200721091551.xml.gz\n",
      "Results: None\n"
     ]
    }
   ],
   "source": [
    "job3 = Gaia.launch_job(query3)\n",
    "print(job3)"
   ]
  },
  {
   "cell_type": "code",
   "execution_count": 23,
   "metadata": {},
   "outputs": [
    {
     "data": {
      "text/html": [
       "<i>Table length=10</i>\n",
       "<table id=\"table139777027264272\" class=\"table-striped table-bordered table-condensed\">\n",
       "<thead><tr><th>source_id</th><th>ra</th><th>dec</th><th>pmra</th><th>pmdec</th><th>parallax</th><th>parallax_error</th></tr></thead>\n",
       "<thead><tr><th></th><th>deg</th><th>deg</th><th>mas / yr</th><th>mas / yr</th><th>mas</th><th>mas</th></tr></thead>\n",
       "<thead><tr><th>int64</th><th>float64</th><th>float64</th><th>float64</th><th>float64</th><th>float64</th><th>float64</th></tr></thead>\n",
       "<tr><td>4042079415526077184</td><td>269.615505095578</td><td>-34.82083130836642</td><td>-0.14697065342756463</td><td>-1.15764447638223</td><td>0.5360805493350669</td><td>0.1426313351507156</td></tr>\n",
       "<tr><td>4042078144213537024</td><td>269.72372980755273</td><td>-34.86014719868787</td><td>-5.701689461158032</td><td>-11.241933950766285</td><td>0.794452353833016</td><td>0.7151039689885</td></tr>\n",
       "<tr><td>4042078831338090880</td><td>269.5872568621868</td><td>-34.86038675441301</td><td>-0.5007792418817473</td><td>-6.03553716652244</td><td>0.42235949110241516</td><td>0.09546467768883657</td></tr>\n",
       "<tr><td>4042079110610736384</td><td>269.66145227862773</td><td>-34.83582264803566</td><td>-5.5855966785382485</td><td>-6.479323140794701</td><td>-0.31579370816381114</td><td>0.5651768495117003</td></tr>\n",
       "<tr><td>4042078316011694592</td><td>269.6566823998595</td><td>-34.8644044274934</td><td>-4.071953658917412</td><td>-2.45009711436876</td><td>-0.4414312144711792</td><td>0.2436598460927262</td></tr>\n",
       "<tr><td>2183266674116177152</td><td>310.2134344338742</td><td>53.796210648722976</td><td>-3.1579368338608047</td><td>-1.935493397184783</td><td>-0.1868137058665045</td><td>0.7463231800629537</td></tr>\n",
       "<tr><td>2183285881199360256</td><td>310.1610282098487</td><td>54.07289702118478</td><td>-3.6447531685985943</td><td>-5.01828039877749</td><td>-0.11727829076448748</td><td>0.28502208396517553</td></tr>\n",
       "<tr><td>2183274332033346560</td><td>310.46515505936054</td><td>53.93240964196606</td><td>-2.8141484339980076</td><td>-3.2144574697926886</td><td>0.06855306410247869</td><td>0.07017565320145407</td></tr>\n",
       "<tr><td>2183306222169152384</td><td>310.939878233984</td><td>54.26806882969612</td><td>1.2457057181650024</td><td>-4.579913400866355</td><td>0.379738815637017</td><td>0.7412897360737692</td></tr>\n",
       "<tr><td>2183294466850041344</td><td>310.353539043974</td><td>54.22867492985056</td><td>-1.5034108332047071</td><td>-3.7468718545229853</td><td>0.026306484183763308</td><td>0.3378668406660999</td></tr>\n",
       "</table>"
      ],
      "text/plain": [
       "<Table length=10>\n",
       "     source_id              ra         ...    parallax_error  \n",
       "                           deg         ...         mas        \n",
       "       int64             float64       ...       float64      \n",
       "------------------- ------------------ ... -------------------\n",
       "4042079415526077184   269.615505095578 ...  0.1426313351507156\n",
       "4042078144213537024 269.72372980755273 ...     0.7151039689885\n",
       "4042078831338090880  269.5872568621868 ... 0.09546467768883657\n",
       "4042079110610736384 269.66145227862773 ...  0.5651768495117003\n",
       "4042078316011694592  269.6566823998595 ...  0.2436598460927262\n",
       "2183266674116177152  310.2134344338742 ...  0.7463231800629537\n",
       "2183285881199360256  310.1610282098487 ... 0.28502208396517553\n",
       "2183274332033346560 310.46515505936054 ... 0.07017565320145407\n",
       "2183306222169152384   310.939878233984 ...  0.7412897360737692\n",
       "2183294466850041344   310.353539043974 ...  0.3378668406660999"
      ]
     },
     "execution_count": 23,
     "metadata": {},
     "output_type": "execute_result"
    }
   ],
   "source": [
    "results3 = job3.get_results()\n",
    "results3"
   ]
  },
  {
   "cell_type": "code",
   "execution_count": null,
   "metadata": {},
   "outputs": [],
   "source": []
  },
  {
   "cell_type": "markdown",
   "metadata": {},
   "source": [
    "## Working with coordinates\n",
    "\n",
    "The next step is to select a viewing rectangle, but before we do that, we have to deal with coordinates."
   ]
  },
  {
   "cell_type": "code",
   "execution_count": 24,
   "metadata": {},
   "outputs": [],
   "source": [
    "import astropy.units as u\n",
    "\n",
    "low1, high1 = -55, -45\n",
    "phi1 = [low1, low1, high1, high1] * u.deg\n",
    "\n",
    "low2, high2 = -5, 5\n",
    "phi2 = [low2, high2, high2, low2] * u.deg"
   ]
  },
  {
   "cell_type": "markdown",
   "metadata": {},
   "source": [
    "`gc.GD1Koposov10` is the [Astropy coordinate class for the Sagittarius coordinate system](https://gala-astro.readthedocs.io/en/latest/_modules/gala/coordinates/gd1.html)"
   ]
  },
  {
   "cell_type": "code",
   "execution_count": 25,
   "metadata": {},
   "outputs": [
    {
     "data": {
      "text/plain": [
       "gala.coordinates.gd1.GD1Koposov10"
      ]
     },
     "execution_count": 25,
     "metadata": {},
     "output_type": "execute_result"
    }
   ],
   "source": [
    "import gala.coordinates as gc\n",
    "\n",
    "corners = gc.GD1Koposov10(phi1=phi1, phi2=phi2)\n",
    "type(corners)"
   ]
  },
  {
   "cell_type": "code",
   "execution_count": 26,
   "metadata": {},
   "outputs": [
    {
     "data": {
      "text/plain": [
       "<GD1Koposov10 Coordinate: (phi1, phi2) in deg\n",
       "    [(-55., -5.), (-55.,  5.), (-45.,  5.), (-45., -5.)]>"
      ]
     },
     "execution_count": 26,
     "metadata": {},
     "output_type": "execute_result"
    }
   ],
   "source": [
    "corners"
   ]
  },
  {
   "cell_type": "markdown",
   "metadata": {},
   "source": [
    "Convert to [International Celestial Reference System](https://en.wikipedia.org/wiki/International_Celestial_Reference_System)"
   ]
  },
  {
   "cell_type": "code",
   "execution_count": 27,
   "metadata": {},
   "outputs": [
    {
     "data": {
      "text/plain": [
       "astropy.coordinates.builtin_frames.icrs.ICRS"
      ]
     },
     "execution_count": 27,
     "metadata": {},
     "output_type": "execute_result"
    }
   ],
   "source": [
    "import astropy.coordinates as coord\n",
    "\n",
    "corners_icrs = corners.transform_to(coord.ICRS)\n",
    "type(corners_icrs)"
   ]
  },
  {
   "cell_type": "code",
   "execution_count": 28,
   "metadata": {},
   "outputs": [
    {
     "data": {
      "text/plain": [
       "<ICRS Coordinate: (ra, dec) in deg\n",
       "    [(143.65740786, 20.98189113), (134.46717444, 26.39291777),\n",
       "     (140.58825494, 34.85481377), (150.16628418, 29.01557079)]>"
      ]
     },
     "execution_count": 28,
     "metadata": {},
     "output_type": "execute_result"
    }
   ],
   "source": [
    "corners_icrs"
   ]
  },
  {
   "cell_type": "code",
   "execution_count": 29,
   "metadata": {},
   "outputs": [
    {
     "data": {
      "text/plain": [
       "<ICRS Coordinate: (ra, dec) in deg\n",
       "    (143.65740786, 20.98189113)>"
      ]
     },
     "execution_count": 29,
     "metadata": {},
     "output_type": "execute_result"
    }
   ],
   "source": [
    "corners_icrs[0]"
   ]
  },
  {
   "cell_type": "code",
   "execution_count": 30,
   "metadata": {},
   "outputs": [
    {
     "data": {
      "text/latex": [
       "$143^\\circ39{}^\\prime26.6683{}^{\\prime\\prime}$"
      ],
      "text/plain": [
       "<Longitude 143.65740786 deg>"
      ]
     },
     "execution_count": 30,
     "metadata": {},
     "output_type": "execute_result"
    }
   ],
   "source": [
    "corners_icrs[0].ra"
   ]
  },
  {
   "cell_type": "code",
   "execution_count": 31,
   "metadata": {},
   "outputs": [
    {
     "data": {
      "text/plain": [
       "143.65740785846373"
      ]
     },
     "execution_count": 31,
     "metadata": {},
     "output_type": "execute_result"
    }
   ],
   "source": [
    "corners_icrs[0].ra.degree"
   ]
  },
  {
   "cell_type": "code",
   "execution_count": 32,
   "metadata": {},
   "outputs": [
    {
     "data": {
      "text/latex": [
       "[$143^\\circ39{}^\\prime26.6683{}^{\\prime\\prime}$\n",
       " $134^\\circ28{}^\\prime01.828{}^{\\prime\\prime}$\n",
       " $140^\\circ35{}^\\prime17.7178{}^{\\prime\\prime}$\n",
       " $150^\\circ09{}^\\prime58.623{}^{\\prime\\prime}$]"
      ],
      "text/plain": [
       "<Longitude [143.65740786, 134.46717444, 140.58825494, 150.16628418] deg>"
      ]
     },
     "execution_count": 32,
     "metadata": {},
     "output_type": "execute_result"
    }
   ],
   "source": [
    "corners_icrs.ra"
   ]
  },
  {
   "cell_type": "code",
   "execution_count": 33,
   "metadata": {},
   "outputs": [
    {
     "data": {
      "text/plain": [
       "array([143.65740786, 134.46717444, 140.58825494, 150.16628418])"
      ]
     },
     "execution_count": 33,
     "metadata": {},
     "output_type": "execute_result"
    }
   ],
   "source": [
    "corners_icrs.ra.degree"
   ]
  },
  {
   "cell_type": "markdown",
   "metadata": {},
   "source": [
    "We can use `corners_icrs` to specify a polygon and construct a more complex query."
   ]
  },
  {
   "cell_type": "code",
   "execution_count": 34,
   "metadata": {},
   "outputs": [],
   "source": [
    "query4_base = \"\"\"SELECT {columns}\n",
    "FROM gaiadr2.gaia_source\n",
    "WHERE parallax < 1 AND bp_rp > -0.75 AND bp_rp < 2 AND\n",
    "      CONTAINS(POINT(ra, dec), \n",
    "               POLYGON({ra[0]}, {dec[0]}, \n",
    "                       {ra[1]}, {dec[1]}, \n",
    "                       {ra[2]}, {dec[2]}, \n",
    "                       {ra[3]}, {dec[3]})) = 1\n",
    "\"\"\""
   ]
  },
  {
   "cell_type": "markdown",
   "metadata": {},
   "source": [
    "Here's what it looks like."
   ]
  },
  {
   "cell_type": "code",
   "execution_count": 35,
   "metadata": {},
   "outputs": [
    {
     "name": "stdout",
     "output_type": "stream",
     "text": [
      "SELECT source_id, ra, dec, pmra, pmdec, parallax, parallax_error\n",
      "FROM gaiadr2.gaia_source\n",
      "WHERE parallax < 1 AND bp_rp > -0.75 AND bp_rp < 2 AND\n",
      "      CONTAINS(POINT(ra, dec), \n",
      "               POLYGON(143.65740785846373, 20.98189112798802, \n",
      "                       134.46717444171475, 26.39291776724364, \n",
      "                       140.58825494277238, 34.85481376928442, \n",
      "                       150.16628417989443, 29.015570791894923)) = 1\n",
      "\n"
     ]
    }
   ],
   "source": [
    "query4 = query4_base.format(columns=columns, \n",
    "                            ra=corners_icrs.ra.degree,\n",
    "                            dec=corners_icrs.dec.degree)\n",
    "print_query(query4)"
   ]
  },
  {
   "cell_type": "markdown",
   "metadata": {},
   "source": [
    "And here's how we run it."
   ]
  },
  {
   "cell_type": "code",
   "execution_count": 36,
   "metadata": {
    "scrolled": true
   },
   "outputs": [
    {
     "name": "stdout",
     "output_type": "stream",
     "text": [
      "INFO: Query finished. [astroquery.utils.tap.core]\n",
      "<Table length=120756>\n",
      "     name       dtype    unit                              description                            \n",
      "-------------- ------- -------- ------------------------------------------------------------------\n",
      "     source_id   int64          Unique source identifier (unique within a particular Data Release)\n",
      "            ra float64      deg                                                    Right ascension\n",
      "           dec float64      deg                                                        Declination\n",
      "          pmra float64 mas / yr                         Proper motion in right ascension direction\n",
      "         pmdec float64 mas / yr                             Proper motion in declination direction\n",
      "      parallax float64      mas                                                           Parallax\n",
      "parallax_error float64      mas                                         Standard error of parallax\n",
      "Jobid: 1595337353369O\n",
      "Phase: COMPLETED\n",
      "Owner: None\n",
      "Output file: async_20200721091553.vot\n",
      "Results: None\n"
     ]
    }
   ],
   "source": [
    "job4 = Gaia.launch_job_async(query4)\n",
    "print(job4)"
   ]
  },
  {
   "cell_type": "code",
   "execution_count": 37,
   "metadata": {},
   "outputs": [
    {
     "data": {
      "text/plain": [
       "120756"
      ]
     },
     "execution_count": 37,
     "metadata": {},
     "output_type": "execute_result"
    }
   ],
   "source": [
    "results4 = job4.get_results()\n",
    "len(results4)"
   ]
  },
  {
   "cell_type": "markdown",
   "metadata": {},
   "source": [
    "## Saving results"
   ]
  },
  {
   "cell_type": "code",
   "execution_count": 38,
   "metadata": {},
   "outputs": [],
   "source": [
    "filename = 'data/gd1_results4.fits'\n",
    "results4.write(filename, overwrite=True)"
   ]
  },
  {
   "cell_type": "code",
   "execution_count": 39,
   "metadata": {},
   "outputs": [],
   "source": [
    "import os\n",
    "\n",
    "def filesize(filename):\n",
    "    size = os.path.getsize(filename)\n",
    "    print(size / 1024 / 1024, 'MB')"
   ]
  },
  {
   "cell_type": "code",
   "execution_count": 40,
   "metadata": {},
   "outputs": [
    {
     "name": "stdout",
     "output_type": "stream",
     "text": [
      "6.46270751953125 MB\n"
     ]
    }
   ],
   "source": [
    "filesize(filename)"
   ]
  },
  {
   "cell_type": "code",
   "execution_count": 41,
   "metadata": {},
   "outputs": [],
   "source": [
    "from astropy.table import Table\n",
    "\n",
    "filename = 'data/gd1_results4.fits'\n",
    "results4 = Table.read(filename)"
   ]
  },
  {
   "cell_type": "code",
   "execution_count": 42,
   "metadata": {},
   "outputs": [
    {
     "data": {
      "text/plain": [
       "<Table length=120756>\n",
       "     name       dtype    unit                              description                            \n",
       "-------------- ------- -------- ------------------------------------------------------------------\n",
       "     source_id   int64          Unique source identifier (unique within a particular Data Release)\n",
       "            ra float64      deg                                                    Right ascension\n",
       "           dec float64      deg                                                        Declination\n",
       "          pmra float64 mas / yr                         Proper motion in right ascension direction\n",
       "         pmdec float64 mas / yr                             Proper motion in declination direction\n",
       "      parallax float64      mas                                                           Parallax\n",
       "parallax_error float64      mas                                         Standard error of parallax"
      ]
     },
     "execution_count": 42,
     "metadata": {},
     "output_type": "execute_result"
    }
   ],
   "source": [
    "results4.info"
   ]
  },
  {
   "cell_type": "code",
   "execution_count": null,
   "metadata": {},
   "outputs": [],
   "source": []
  },
  {
   "cell_type": "markdown",
   "metadata": {},
   "source": [
    "## Making a function"
   ]
  },
  {
   "cell_type": "code",
   "execution_count": 43,
   "metadata": {},
   "outputs": [],
   "source": [
    "def transform_rectangle(low1, high1, low2, high2):\n",
    "    phi1 = [low1, low1, high1, high1] * u.deg\n",
    "    phi2 = [low2, high2, high2, low2] * u.deg\n",
    "    corners = gc.GD1Koposov10(phi1=phi1, phi2=phi2)\n",
    "    corners_icrs = corners.transform_to(coord.ICRS)\n",
    "    return corners_icrs"
   ]
  },
  {
   "cell_type": "code",
   "execution_count": 44,
   "metadata": {},
   "outputs": [],
   "source": [
    "corners_icrs = transform_rectangle(-55, -45, -4, 6)"
   ]
  },
  {
   "cell_type": "code",
   "execution_count": 45,
   "metadata": {},
   "outputs": [],
   "source": [
    "assert(corners_icrs[0].ra.degree == 142.7716385024318)"
   ]
  },
  {
   "cell_type": "code",
   "execution_count": 46,
   "metadata": {},
   "outputs": [
    {
     "name": "stdout",
     "output_type": "stream",
     "text": [
      "['142.7716385024318, 21.546353324354072', '133.5042010718342, 26.902060612630827', '139.5603146332043, 35.39626209390598', '149.26169474640096, 29.63037759884082']\n"
     ]
    }
   ],
   "source": [
    "point_base = \"{point.ra.degree}, {point.dec.degree}\"\n",
    "\n",
    "t = [point_base.format(point=point)\n",
    "     for point in corners_icrs]\n",
    "print(t)"
   ]
  },
  {
   "cell_type": "code",
   "execution_count": 47,
   "metadata": {},
   "outputs": [
    {
     "data": {
      "text/plain": [
       "'POLYGON(142.7716385024318, 21.546353324354072, 133.5042010718342, 26.902060612630827, 139.5603146332043, 35.39626209390598, 149.26169474640096, 29.63037759884082)'"
      ]
     },
     "execution_count": 47,
     "metadata": {},
     "output_type": "execute_result"
    }
   ],
   "source": [
    "poly_base = \"POLYGON({point_list})\"\n",
    "\n",
    "point_list = ', '.join(t)\n",
    "poly_base.format(point_list=point_list)"
   ]
  },
  {
   "cell_type": "code",
   "execution_count": 48,
   "metadata": {},
   "outputs": [],
   "source": [
    "def make_adql_polygon(coords):\n",
    "    \"\"\"\n",
    "    \"\"\"\n",
    "    point_base = \"{point.ra.degree}, {point.dec.degree}\"\n",
    "\n",
    "    t = [point_base.format(point=point)\n",
    "         for point in coords]\n",
    "\n",
    "    poly_base = \"POLYGON({point_list})\"\n",
    "    point_list = ', '.join(t)\n",
    "    return poly_base.format(point_list=point_list)"
   ]
  },
  {
   "cell_type": "code",
   "execution_count": 49,
   "metadata": {},
   "outputs": [],
   "source": [
    "polygon1 = make_adql_polygon(corners_icrs)"
   ]
  },
  {
   "cell_type": "code",
   "execution_count": 50,
   "metadata": {},
   "outputs": [
    {
     "data": {
      "text/plain": [
       "'POLYGON(143.65740785846373, 20.98189112798802, 134.46717444171475, 26.39291776724364, 140.58825494277238, 34.85481376928442, 150.16628417989443, 29.015570791894923)'"
      ]
     },
     "execution_count": 50,
     "metadata": {},
     "output_type": "execute_result"
    }
   ],
   "source": [
    "corners_icrs = transform_rectangle(-55, -45, -5, 5)\n",
    "polygon2 = make_adql_polygon(corners_icrs)\n",
    "polygon2"
   ]
  },
  {
   "cell_type": "code",
   "execution_count": null,
   "metadata": {},
   "outputs": [],
   "source": []
  }
 ],
 "metadata": {
  "kernelspec": {
   "display_name": "Python 3",
   "language": "python",
   "name": "python3"
  },
  "language_info": {
   "codemirror_mode": {
    "name": "ipython",
    "version": 3
   },
   "file_extension": ".py",
   "mimetype": "text/x-python",
   "name": "python",
   "nbconvert_exporter": "python",
   "pygments_lexer": "ipython3",
   "version": "3.8.5"
  }
 },
 "nbformat": 4,
 "nbformat_minor": 2
}
